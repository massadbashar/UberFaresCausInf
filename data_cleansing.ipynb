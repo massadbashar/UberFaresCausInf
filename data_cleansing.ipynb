{
 "cells": [
  {
   "cell_type": "code",
   "execution_count": 1,
   "metadata": {},
   "outputs": [],
   "source": [
    "import pandas as pd\n",
    "import numpy as np\n",
    "import matplotlib.pyplot as plt"
   ]
  },
  {
   "cell_type": "code",
   "execution_count": 2,
   "metadata": {},
   "outputs": [
    {
     "name": "stdout",
     "output_type": "stream",
     "text": [
      "Unnamed: 0             int64\n",
      "key                   object\n",
      "fare_amount          float64\n",
      "pickup_datetime       object\n",
      "pickup_longitude     float64\n",
      "pickup_latitude      float64\n",
      "dropoff_longitude    float64\n",
      "dropoff_latitude     float64\n",
      "passenger_count        int64\n",
      "dtype: object\n"
     ]
    }
   ],
   "source": [
    "# Load the dataset\n",
    "df = pd.read_csv('uber.csv')\n",
    "\n",
    "# Display the first few rows\n",
    "df.head()\n",
    "# Print df columns with types\n",
    "print(df.dtypes)"
   ]
  },
  {
   "cell_type": "markdown",
   "metadata": {},
   "source": [
    "### Handle missing values"
   ]
  },
  {
   "cell_type": "code",
   "execution_count": 3,
   "metadata": {},
   "outputs": [
    {
     "data": {
      "text/plain": [
       "Unnamed: 0           0\n",
       "key                  0\n",
       "fare_amount          0\n",
       "pickup_datetime      0\n",
       "pickup_longitude     0\n",
       "pickup_latitude      0\n",
       "dropoff_longitude    0\n",
       "dropoff_latitude     0\n",
       "passenger_count      0\n",
       "dtype: int64"
      ]
     },
     "execution_count": 3,
     "metadata": {},
     "output_type": "execute_result"
    }
   ],
   "source": [
    "# Checking for missing values\n",
    "missing_values = df.isnull().sum()\n",
    "\n",
    "# Drop rows with any missing values\n",
    "df = df.dropna()\n",
    "\n",
    "# Alternatively, fill missing values (if appropriate)\n",
    "# df = df.fillna(method='ffill')\n",
    "\n",
    "missing_values_after = df.isnull().sum()\n",
    "missing_values_after"
   ]
  },
  {
   "cell_type": "code",
   "execution_count": 4,
   "metadata": {},
   "outputs": [
    {
     "data": {
      "text/plain": [
       "(199256, 9)"
      ]
     },
     "execution_count": 4,
     "metadata": {},
     "output_type": "execute_result"
    }
   ],
   "source": [
    "# Validating latitude and longitude ranges\n",
    "valid_longitude = (-180, 180)\n",
    "valid_latitude = (-90, 90)\n",
    "\n",
    "df = df[(df['pickup_longitude'].between(valid_longitude[0], valid_longitude[1])) &\n",
    "        (df['pickup_latitude'].between(valid_latitude[0], valid_latitude[1])) &\n",
    "        (df['dropoff_longitude'].between(valid_longitude[0], valid_longitude[1])) &\n",
    "        (df['dropoff_latitude'].between(valid_latitude[0], valid_latitude[1]))]\n",
    "\n",
    "# Filtering out rows with invalid fare_amount and passenger_count\n",
    "df = df[df['fare_amount'] > 0]\n",
    "df = df[df['passenger_count'] > 0]\n",
    "df = df[df['passenger_count'] <= 6]\n",
    "\n",
    "df.shape"
   ]
  },
  {
   "cell_type": "markdown",
   "metadata": {},
   "source": [
    "## Data Transformation"
   ]
  },
  {
   "cell_type": "code",
   "execution_count": 5,
   "metadata": {},
   "outputs": [
    {
     "name": "stdout",
     "output_type": "stream",
     "text": [
      "First few rows after datetime transformation:\n",
      "   Unnamed: 0                            key  fare_amount  \\\n",
      "0    24238194    2015-05-07 19:52:06.0000003          7.5   \n",
      "1    27835199    2009-07-17 20:04:56.0000002          7.7   \n",
      "2    44984355   2009-08-24 21:45:00.00000061         12.9   \n",
      "3    25894730    2009-06-26 08:22:21.0000001          5.3   \n",
      "4    17610152  2014-08-28 17:47:00.000000188         16.0   \n",
      "\n",
      "            pickup_datetime  pickup_longitude  pickup_latitude  \\\n",
      "0 2015-05-07 19:52:06+00:00        -73.999817        40.738354   \n",
      "1 2009-07-17 20:04:56+00:00        -73.994355        40.728225   \n",
      "2 2009-08-24 21:45:00+00:00        -74.005043        40.740770   \n",
      "3 2009-06-26 08:22:21+00:00        -73.976124        40.790844   \n",
      "4 2014-08-28 17:47:00+00:00        -73.925023        40.744085   \n",
      "\n",
      "   dropoff_longitude  dropoff_latitude  passenger_count  pickup_year  \\\n",
      "0         -73.999512         40.723217                1         2015   \n",
      "1         -73.994710         40.750325                1         2009   \n",
      "2         -73.962565         40.772647                1         2009   \n",
      "3         -73.965316         40.803349                3         2009   \n",
      "4         -73.973082         40.761247                5         2014   \n",
      "\n",
      "   pickup_month  pickup_day  pickup_hour  pickup_minute  pickup_day_of_week  \\\n",
      "0             5           7           19             52                   3   \n",
      "1             7          17           20              4                   4   \n",
      "2             8          24           21             45                   0   \n",
      "3             6          26            8             22                   4   \n",
      "4             8          28           17             47                   3   \n",
      "\n",
      "  pickup_time_of_day pickup_datetime_naive  \n",
      "0                  3            2015-05-07  \n",
      "1                  3            2009-07-17  \n",
      "2                  3            2009-08-24  \n",
      "3                  1            2009-06-26  \n",
      "4                  2            2014-08-28  \n"
     ]
    }
   ],
   "source": [
    "# Extracting significant datetime information\n",
    "df['pickup_datetime'] = pd.to_datetime(df['pickup_datetime'])\n",
    "\n",
    "# Extracting features from pickup_datetime\n",
    "df['pickup_year'] = df['pickup_datetime'].dt.year\n",
    "df['pickup_month'] = df['pickup_datetime'].dt.month\n",
    "df['pickup_day'] = df['pickup_datetime'].dt.day\n",
    "df['pickup_hour'] = df['pickup_datetime'].dt.hour\n",
    "df['pickup_minute'] = df['pickup_datetime'].dt.minute\n",
    "df['pickup_day_of_week'] = df['pickup_datetime'].dt.dayofweek\n",
    "# 0 - Night , 1 - Morning, 2 - Afternoon, 3 - Evening\n",
    "df['pickup_time_of_day'] = pd.cut(df['pickup_datetime'].dt.hour, bins=[0, 4, 12, 18, 24], labels=[0, 1, 2, 3], right=False)\n",
    "\n",
    "# Create the naive datetime column (if not already created)\n",
    "df['pickup_datetime_naive'] = df['pickup_datetime'].dt.tz_convert(None)\n",
    "\n",
    "# Normalize to remove the time component\n",
    "df['pickup_datetime_naive'] = df['pickup_datetime_naive'].dt.normalize()\n",
    "\n",
    "\n",
    "# Display the first few rows after transformation\n",
    "print(\"First few rows after datetime transformation:\")\n",
    "print(df.head())\n",
    "\n",
    "df.to_csv('updated.csv', index=False)"
   ]
  },
  {
   "cell_type": "markdown",
   "metadata": {},
   "source": [
    "## Data Extending\n",
    "### Adding weather data to our dataset from the [link](https://www.ncei.noaa.gov/cdo-web/):"
   ]
  },
  {
   "cell_type": "code",
   "execution_count": 6,
   "metadata": {},
   "outputs": [
    {
     "data": {
      "text/plain": [
       "STATION       0\n",
       "DATE          0\n",
       "AWND         35\n",
       "EVAP       2922\n",
       "RHAV         80\n",
       "RHMN         78\n",
       "RHMX         78\n",
       "SNOW          0\n",
       "SNWD          0\n",
       "TAVG       2922\n",
       "TMAX          0\n",
       "TMIN          0\n",
       "TOBS       2922\n",
       "TSUN       2922\n",
       "WDMV       2922\n",
       "WESD       2922\n",
       "WSFM       2922\n",
       "WT01       2040\n",
       "WT03       2922\n",
       "WT07       2871\n",
       "WT14       2921\n",
       "WT16       2344\n",
       "WT17       2914\n",
       "dtype: int64"
      ]
     },
     "execution_count": 6,
     "metadata": {},
     "output_type": "execute_result"
    }
   ],
   "source": [
    "pre_processed_weather_df = pd.read_csv('nyc_weather.csv')\n",
    "# Checking for missing values\n",
    "missing_values = pre_processed_weather_df.isnull().sum()\n",
    "\n",
    "missing_values"
   ]
  },
  {
   "cell_type": "code",
   "execution_count": 7,
   "metadata": {},
   "outputs": [
    {
     "data": {
      "text/html": [
       "<div>\n",
       "<style scoped>\n",
       "    .dataframe tbody tr th:only-of-type {\n",
       "        vertical-align: middle;\n",
       "    }\n",
       "\n",
       "    .dataframe tbody tr th {\n",
       "        vertical-align: top;\n",
       "    }\n",
       "\n",
       "    .dataframe thead th {\n",
       "        text-align: right;\n",
       "    }\n",
       "</style>\n",
       "<table border=\"1\" class=\"dataframe\">\n",
       "  <thead>\n",
       "    <tr style=\"text-align: right;\">\n",
       "      <th></th>\n",
       "      <th>SNOW</th>\n",
       "      <th>SNWD</th>\n",
       "      <th>TMAX</th>\n",
       "      <th>TMIN</th>\n",
       "    </tr>\n",
       "    <tr>\n",
       "      <th>DATE</th>\n",
       "      <th></th>\n",
       "      <th></th>\n",
       "      <th></th>\n",
       "      <th></th>\n",
       "    </tr>\n",
       "  </thead>\n",
       "  <tbody>\n",
       "    <tr>\n",
       "      <th>2009-01-01</th>\n",
       "      <td>0</td>\n",
       "      <td>0</td>\n",
       "      <td>-3.3</td>\n",
       "      <td>-9.4</td>\n",
       "    </tr>\n",
       "    <tr>\n",
       "      <th>2009-01-02</th>\n",
       "      <td>0</td>\n",
       "      <td>0</td>\n",
       "      <td>1.1</td>\n",
       "      <td>-5.0</td>\n",
       "    </tr>\n",
       "    <tr>\n",
       "      <th>2009-01-03</th>\n",
       "      <td>0</td>\n",
       "      <td>0</td>\n",
       "      <td>3.3</td>\n",
       "      <td>-1.7</td>\n",
       "    </tr>\n",
       "    <tr>\n",
       "      <th>2009-01-04</th>\n",
       "      <td>0</td>\n",
       "      <td>0</td>\n",
       "      <td>5.6</td>\n",
       "      <td>-3.9</td>\n",
       "    </tr>\n",
       "    <tr>\n",
       "      <th>2009-01-05</th>\n",
       "      <td>0</td>\n",
       "      <td>0</td>\n",
       "      <td>6.1</td>\n",
       "      <td>3.3</td>\n",
       "    </tr>\n",
       "  </tbody>\n",
       "</table>\n",
       "</div>"
      ],
      "text/plain": [
       "            SNOW  SNWD  TMAX  TMIN\n",
       "DATE                              \n",
       "2009-01-01     0     0  -3.3  -9.4\n",
       "2009-01-02     0     0   1.1  -5.0\n",
       "2009-01-03     0     0   3.3  -1.7\n",
       "2009-01-04     0     0   5.6  -3.9\n",
       "2009-01-05     0     0   6.1   3.3"
      ]
     },
     "execution_count": 7,
     "metadata": {},
     "output_type": "execute_result"
    }
   ],
   "source": [
    "weather_df = pre_processed_weather_df[['DATE', 'SNOW', 'SNWD', 'TMAX', 'TMIN']].copy() # Selecting only the required columns\n",
    "\n",
    "weather_df['DATE'] = pd.to_datetime(weather_df['DATE'])\n",
    "\n",
    "weather_df.set_index('DATE', inplace=True)\n",
    "\n",
    "weather_df.head()"
   ]
  },
  {
   "cell_type": "code",
   "execution_count": 8,
   "metadata": {},
   "outputs": [],
   "source": [
    "df['SNOW'] = df['pickup_datetime_naive'].map(weather_df['SNOW'])\n",
    "df['SNWD'] = df['pickup_datetime_naive'].map(weather_df['SNWD'])\n",
    "df['TMAX'] = df['pickup_datetime_naive'].map(weather_df['TMAX'])\n",
    "df['TMIN'] = df['pickup_datetime_naive'].map(weather_df['TMIN'])\n",
    "\n",
    "df.head()\n",
    "df.to_csv('updated.csv', index=False)"
   ]
  },
  {
   "cell_type": "markdown",
   "metadata": {},
   "source": [
    "### Holiday Data [Link](https://www.kaggle.com/datasets/donnetew/us-holiday-dates-2004-2021):\n"
   ]
  },
  {
   "cell_type": "code",
   "execution_count": 9,
   "metadata": {},
   "outputs": [
    {
     "data": {
      "text/plain": [
       "Date       datetime64[ns]\n",
       "Holiday            object\n",
       "WeekDay            object\n",
       "Month               int64\n",
       "Day                 int64\n",
       "Year                int64\n",
       "dtype: object"
      ]
     },
     "execution_count": 9,
     "metadata": {},
     "output_type": "execute_result"
    }
   ],
   "source": [
    "# Read the CSV file into a DataFrame\n",
    "us_holidays_df = pd.read_csv('us_holidays.csv')\n",
    "\n",
    "us_holidays_df['Date'] = pd.to_datetime(us_holidays_df['Date'])\n",
    "\n",
    "# Display the DataFrame\n",
    "us_holidays_df.dtypes"
   ]
  },
  {
   "cell_type": "code",
   "execution_count": 10,
   "metadata": {},
   "outputs": [
    {
     "data": {
      "text/plain": [
       "0   2004-07-04\n",
       "1   2005-07-04\n",
       "2   2006-07-04\n",
       "3   2007-07-04\n",
       "4   2008-07-04\n",
       "Name: Date, dtype: datetime64[ns]"
      ]
     },
     "execution_count": 10,
     "metadata": {},
     "output_type": "execute_result"
    }
   ],
   "source": [
    "holidays_dates_df = us_holidays_df['Date'].copy()\n",
    "holidays_dates_df.head()"
   ]
  },
  {
   "cell_type": "code",
   "execution_count": 11,
   "metadata": {},
   "outputs": [],
   "source": [
    "df = df.merge(holidays_dates_df, left_on='pickup_datetime_naive', right_on='Date', how='left')\n",
    "df['is_holiday'] = df['Date'].notnull().astype(int)\n",
    "df.drop(columns='Date', inplace=True)\n",
    "df.head()\n",
    "df.sort_values(by='pickup_datetime', inplace=True)\n",
    "df.to_csv('uber_updated.csv', index=False)"
   ]
  },
  {
   "cell_type": "code",
   "execution_count": 12,
   "metadata": {},
   "outputs": [
    {
     "data": {
      "text/html": [
       "<div>\n",
       "<style scoped>\n",
       "    .dataframe tbody tr th:only-of-type {\n",
       "        vertical-align: middle;\n",
       "    }\n",
       "\n",
       "    .dataframe tbody tr th {\n",
       "        vertical-align: top;\n",
       "    }\n",
       "\n",
       "    .dataframe thead th {\n",
       "        text-align: right;\n",
       "    }\n",
       "</style>\n",
       "<table border=\"1\" class=\"dataframe\">\n",
       "  <thead>\n",
       "    <tr style=\"text-align: right;\">\n",
       "      <th></th>\n",
       "      <th>Unnamed: 0</th>\n",
       "      <th>key</th>\n",
       "      <th>fare_amount</th>\n",
       "      <th>pickup_datetime</th>\n",
       "      <th>pickup_longitude</th>\n",
       "      <th>pickup_latitude</th>\n",
       "      <th>dropoff_longitude</th>\n",
       "      <th>dropoff_latitude</th>\n",
       "      <th>passenger_count</th>\n",
       "      <th>pickup_year</th>\n",
       "      <th>...</th>\n",
       "      <th>pickup_hour</th>\n",
       "      <th>pickup_minute</th>\n",
       "      <th>pickup_day_of_week</th>\n",
       "      <th>pickup_time_of_day</th>\n",
       "      <th>pickup_datetime_naive</th>\n",
       "      <th>SNOW</th>\n",
       "      <th>SNWD</th>\n",
       "      <th>TMAX</th>\n",
       "      <th>TMIN</th>\n",
       "      <th>is_holiday</th>\n",
       "    </tr>\n",
       "  </thead>\n",
       "  <tbody>\n",
       "    <tr>\n",
       "      <th>100584</th>\n",
       "      <td>55072468</td>\n",
       "      <td>2009-01-01 01:15:22.0000006</td>\n",
       "      <td>8.5</td>\n",
       "      <td>2009-01-01 01:15:22+00:00</td>\n",
       "      <td>-73.981918</td>\n",
       "      <td>40.779456</td>\n",
       "      <td>-73.957685</td>\n",
       "      <td>40.771043</td>\n",
       "      <td>2</td>\n",
       "      <td>2009</td>\n",
       "      <td>...</td>\n",
       "      <td>1</td>\n",
       "      <td>15</td>\n",
       "      <td>3</td>\n",
       "      <td>0</td>\n",
       "      <td>2009-01-01</td>\n",
       "      <td>0</td>\n",
       "      <td>0</td>\n",
       "      <td>-3.3</td>\n",
       "      <td>-9.4</td>\n",
       "      <td>1</td>\n",
       "    </tr>\n",
       "    <tr>\n",
       "      <th>43861</th>\n",
       "      <td>30813112</td>\n",
       "      <td>2009-01-01 01:59:17.0000001</td>\n",
       "      <td>13.0</td>\n",
       "      <td>2009-01-01 01:59:17+00:00</td>\n",
       "      <td>-73.983759</td>\n",
       "      <td>40.721389</td>\n",
       "      <td>-73.994833</td>\n",
       "      <td>40.687179</td>\n",
       "      <td>2</td>\n",
       "      <td>2009</td>\n",
       "      <td>...</td>\n",
       "      <td>1</td>\n",
       "      <td>59</td>\n",
       "      <td>3</td>\n",
       "      <td>0</td>\n",
       "      <td>2009-01-01</td>\n",
       "      <td>0</td>\n",
       "      <td>0</td>\n",
       "      <td>-3.3</td>\n",
       "      <td>-9.4</td>\n",
       "      <td>1</td>\n",
       "    </tr>\n",
       "    <tr>\n",
       "      <th>7616</th>\n",
       "      <td>8688426</td>\n",
       "      <td>2009-01-01 02:05:03.0000003</td>\n",
       "      <td>10.6</td>\n",
       "      <td>2009-01-01 02:05:03+00:00</td>\n",
       "      <td>-73.956635</td>\n",
       "      <td>40.771254</td>\n",
       "      <td>-73.991528</td>\n",
       "      <td>40.749778</td>\n",
       "      <td>2</td>\n",
       "      <td>2009</td>\n",
       "      <td>...</td>\n",
       "      <td>2</td>\n",
       "      <td>5</td>\n",
       "      <td>3</td>\n",
       "      <td>0</td>\n",
       "      <td>2009-01-01</td>\n",
       "      <td>0</td>\n",
       "      <td>0</td>\n",
       "      <td>-3.3</td>\n",
       "      <td>-9.4</td>\n",
       "      <td>1</td>\n",
       "    </tr>\n",
       "    <tr>\n",
       "      <th>118451</th>\n",
       "      <td>13190369</td>\n",
       "      <td>2009-01-01 02:09:13.0000003</td>\n",
       "      <td>12.2</td>\n",
       "      <td>2009-01-01 02:09:13+00:00</td>\n",
       "      <td>-73.984605</td>\n",
       "      <td>40.728020</td>\n",
       "      <td>-73.955746</td>\n",
       "      <td>40.776830</td>\n",
       "      <td>1</td>\n",
       "      <td>2009</td>\n",
       "      <td>...</td>\n",
       "      <td>2</td>\n",
       "      <td>9</td>\n",
       "      <td>3</td>\n",
       "      <td>0</td>\n",
       "      <td>2009-01-01</td>\n",
       "      <td>0</td>\n",
       "      <td>0</td>\n",
       "      <td>-3.3</td>\n",
       "      <td>-9.4</td>\n",
       "      <td>1</td>\n",
       "    </tr>\n",
       "    <tr>\n",
       "      <th>89530</th>\n",
       "      <td>45716268</td>\n",
       "      <td>2009-01-01 02:13:41.0000001</td>\n",
       "      <td>11.0</td>\n",
       "      <td>2009-01-01 02:13:41+00:00</td>\n",
       "      <td>-73.980127</td>\n",
       "      <td>40.737425</td>\n",
       "      <td>-74.009544</td>\n",
       "      <td>40.726025</td>\n",
       "      <td>4</td>\n",
       "      <td>2009</td>\n",
       "      <td>...</td>\n",
       "      <td>2</td>\n",
       "      <td>13</td>\n",
       "      <td>3</td>\n",
       "      <td>0</td>\n",
       "      <td>2009-01-01</td>\n",
       "      <td>0</td>\n",
       "      <td>0</td>\n",
       "      <td>-3.3</td>\n",
       "      <td>-9.4</td>\n",
       "      <td>1</td>\n",
       "    </tr>\n",
       "  </tbody>\n",
       "</table>\n",
       "<p>5 rows × 22 columns</p>\n",
       "</div>"
      ],
      "text/plain": [
       "        Unnamed: 0                          key  fare_amount  \\\n",
       "100584    55072468  2009-01-01 01:15:22.0000006          8.5   \n",
       "43861     30813112  2009-01-01 01:59:17.0000001         13.0   \n",
       "7616       8688426  2009-01-01 02:05:03.0000003         10.6   \n",
       "118451    13190369  2009-01-01 02:09:13.0000003         12.2   \n",
       "89530     45716268  2009-01-01 02:13:41.0000001         11.0   \n",
       "\n",
       "                 pickup_datetime  pickup_longitude  pickup_latitude  \\\n",
       "100584 2009-01-01 01:15:22+00:00        -73.981918        40.779456   \n",
       "43861  2009-01-01 01:59:17+00:00        -73.983759        40.721389   \n",
       "7616   2009-01-01 02:05:03+00:00        -73.956635        40.771254   \n",
       "118451 2009-01-01 02:09:13+00:00        -73.984605        40.728020   \n",
       "89530  2009-01-01 02:13:41+00:00        -73.980127        40.737425   \n",
       "\n",
       "        dropoff_longitude  dropoff_latitude  passenger_count  pickup_year  \\\n",
       "100584         -73.957685         40.771043                2         2009   \n",
       "43861          -73.994833         40.687179                2         2009   \n",
       "7616           -73.991528         40.749778                2         2009   \n",
       "118451         -73.955746         40.776830                1         2009   \n",
       "89530          -74.009544         40.726025                4         2009   \n",
       "\n",
       "        ...  pickup_hour  pickup_minute  pickup_day_of_week  \\\n",
       "100584  ...            1             15                   3   \n",
       "43861   ...            1             59                   3   \n",
       "7616    ...            2              5                   3   \n",
       "118451  ...            2              9                   3   \n",
       "89530   ...            2             13                   3   \n",
       "\n",
       "        pickup_time_of_day  pickup_datetime_naive SNOW SNWD  TMAX  TMIN  \\\n",
       "100584                   0             2009-01-01    0    0  -3.3  -9.4   \n",
       "43861                    0             2009-01-01    0    0  -3.3  -9.4   \n",
       "7616                     0             2009-01-01    0    0  -3.3  -9.4   \n",
       "118451                   0             2009-01-01    0    0  -3.3  -9.4   \n",
       "89530                    0             2009-01-01    0    0  -3.3  -9.4   \n",
       "\n",
       "        is_holiday  \n",
       "100584           1  \n",
       "43861            1  \n",
       "7616             1  \n",
       "118451           1  \n",
       "89530            1  \n",
       "\n",
       "[5 rows x 22 columns]"
      ]
     },
     "execution_count": 12,
     "metadata": {},
     "output_type": "execute_result"
    }
   ],
   "source": [
    "df.head()"
   ]
  }
 ],
 "metadata": {
  "kernelspec": {
   "display_name": "base",
   "language": "python",
   "name": "python3"
  },
  "language_info": {
   "codemirror_mode": {
    "name": "ipython",
    "version": 3
   },
   "file_extension": ".py",
   "mimetype": "text/x-python",
   "name": "python",
   "nbconvert_exporter": "python",
   "pygments_lexer": "ipython3",
   "version": "3.12.4"
  }
 },
 "nbformat": 4,
 "nbformat_minor": 2
}
