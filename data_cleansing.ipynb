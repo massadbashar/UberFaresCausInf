{
 "cells": [
  {
   "cell_type": "code",
   "execution_count": 53,
   "metadata": {
    "ExecuteTime": {
     "end_time": "2024-08-24T11:23:43.144442700Z",
     "start_time": "2024-08-24T11:23:43.113044900Z"
    }
   },
   "outputs": [],
   "source": [
    "import pandas as pd\n",
    "import numpy as np\n",
    "import matplotlib.pyplot as plt"
   ]
  },
  {
   "cell_type": "code",
   "execution_count": 54,
   "metadata": {
    "ExecuteTime": {
     "end_time": "2024-08-24T11:23:43.364966500Z",
     "start_time": "2024-08-24T11:23:43.128731500Z"
    }
   },
   "outputs": [
    {
     "name": "stdout",
     "output_type": "stream",
     "text": [
      "Unnamed: 0             int64\n",
      "key                   object\n",
      "fare_amount          float64\n",
      "pickup_datetime       object\n",
      "pickup_longitude     float64\n",
      "pickup_latitude      float64\n",
      "dropoff_longitude    float64\n",
      "dropoff_latitude     float64\n",
      "passenger_count        int64\n",
      "dtype: object\n"
     ]
    }
   ],
   "source": [
    "# Load the dataset\n",
    "df = pd.read_csv('uber.csv')\n",
    "\n",
    "# Display the first few rows\n",
    "df.head()\n",
    "# Print df columns with types\n",
    "print(df.dtypes)"
   ]
  },
  {
   "cell_type": "markdown",
   "metadata": {},
   "source": [
    "### Handle missing values"
   ]
  },
  {
   "cell_type": "code",
   "execution_count": 55,
   "metadata": {
    "ExecuteTime": {
     "end_time": "2024-08-24T11:23:43.412107200Z",
     "start_time": "2024-08-24T11:23:43.364966500Z"
    }
   },
   "outputs": [
    {
     "data": {
      "text/plain": "Unnamed: 0           0\nkey                  0\nfare_amount          0\npickup_datetime      0\npickup_longitude     0\npickup_latitude      0\ndropoff_longitude    0\ndropoff_latitude     0\npassenger_count      0\ndtype: int64"
     },
     "execution_count": 55,
     "metadata": {},
     "output_type": "execute_result"
    }
   ],
   "source": [
    "# Checking for missing values\n",
    "missing_values = df.isnull().sum()\n",
    "\n",
    "# Drop rows with any missing values\n",
    "df = df.dropna()\n",
    "\n",
    "# Alternatively, fill missing values (if appropriate)\n",
    "# df = df.fillna(method='ffill')\n",
    "\n",
    "missing_values_after = df.isnull().sum()\n",
    "missing_values_after"
   ]
  },
  {
   "cell_type": "code",
   "execution_count": 56,
   "metadata": {
    "ExecuteTime": {
     "end_time": "2024-08-24T11:23:43.457293Z",
     "start_time": "2024-08-24T11:23:43.412107200Z"
    }
   },
   "outputs": [
    {
     "data": {
      "text/plain": "(199256, 9)"
     },
     "execution_count": 56,
     "metadata": {},
     "output_type": "execute_result"
    }
   ],
   "source": [
    "# Validating latitude and longitude ranges\n",
    "valid_longitude = (-180, 180)\n",
    "valid_latitude = (-90, 90)\n",
    "\n",
    "df = df[(df['pickup_longitude'].between(valid_longitude[0], valid_longitude[1])) &\n",
    "        (df['pickup_latitude'].between(valid_latitude[0], valid_latitude[1])) &\n",
    "        (df['dropoff_longitude'].between(valid_longitude[0], valid_longitude[1])) &\n",
    "        (df['dropoff_latitude'].between(valid_latitude[0], valid_latitude[1]))]\n",
    "\n",
    "# Filtering out rows with invalid fare_amount and passenger_count\n",
    "df = df[df['fare_amount'] > 0]\n",
    "df = df[df['passenger_count'] > 0]\n",
    "df = df[df['passenger_count'] <= 6]\n",
    "\n",
    "df.shape"
   ]
  },
  {
   "cell_type": "markdown",
   "metadata": {},
   "source": [
    "## Data Transformation"
   ]
  },
  {
   "cell_type": "code",
   "execution_count": 57,
   "metadata": {
    "ExecuteTime": {
     "end_time": "2024-08-24T11:23:45.899772500Z",
     "start_time": "2024-08-24T11:23:43.552177600Z"
    }
   },
   "outputs": [
    {
     "name": "stdout",
     "output_type": "stream",
     "text": [
      "First few rows after datetime transformation:\n",
      "   Unnamed: 0                            key  fare_amount  \\\n",
      "0    24238194    2015-05-07 19:52:06.0000003          7.5   \n",
      "1    27835199    2009-07-17 20:04:56.0000002          7.7   \n",
      "2    44984355   2009-08-24 21:45:00.00000061         12.9   \n",
      "3    25894730    2009-06-26 08:22:21.0000001          5.3   \n",
      "4    17610152  2014-08-28 17:47:00.000000188         16.0   \n",
      "\n",
      "            pickup_datetime  pickup_longitude  pickup_latitude  \\\n",
      "0 2015-05-07 19:52:06+00:00        -73.999817        40.738354   \n",
      "1 2009-07-17 20:04:56+00:00        -73.994355        40.728225   \n",
      "2 2009-08-24 21:45:00+00:00        -74.005043        40.740770   \n",
      "3 2009-06-26 08:22:21+00:00        -73.976124        40.790844   \n",
      "4 2014-08-28 17:47:00+00:00        -73.925023        40.744085   \n",
      "\n",
      "   dropoff_longitude  dropoff_latitude  passenger_count  pickup_year  \\\n",
      "0         -73.999512         40.723217                1         2015   \n",
      "1         -73.994710         40.750325                1         2009   \n",
      "2         -73.962565         40.772647                1         2009   \n",
      "3         -73.965316         40.803349                3         2009   \n",
      "4         -73.973082         40.761247                5         2014   \n",
      "\n",
      "   pickup_month  pickup_day  pickup_hour  pickup_minute  pickup_day_of_week  \\\n",
      "0             5           7           19             52                   3   \n",
      "1             7          17           20              4                   4   \n",
      "2             8          24           21             45                   0   \n",
      "3             6          26            8             22                   4   \n",
      "4             8          28           17             47                   3   \n",
      "\n",
      "  pickup_time_of_day pickup_datetime_naive  \n",
      "0                  3            2015-05-07  \n",
      "1                  3            2009-07-17  \n",
      "2                  3            2009-08-24  \n",
      "3                  1            2009-06-26  \n",
      "4                  2            2014-08-28  \n"
     ]
    }
   ],
   "source": [
    "# Extracting significant datetime information\n",
    "df['pickup_datetime'] = pd.to_datetime(df['pickup_datetime'])\n",
    "\n",
    "# Extracting features from pickup_datetime\n",
    "df['pickup_year'] = df['pickup_datetime'].dt.year\n",
    "df['pickup_month'] = df['pickup_datetime'].dt.month\n",
    "df['pickup_day'] = df['pickup_datetime'].dt.day\n",
    "df['pickup_hour'] = df['pickup_datetime'].dt.hour\n",
    "df['pickup_minute'] = df['pickup_datetime'].dt.minute\n",
    "df['pickup_day_of_week'] = df['pickup_datetime'].dt.dayofweek\n",
    "# 0 - Night , 1 - Morning, 2 - Afternoon, 3 - Evening\n",
    "df['pickup_time_of_day'] = pd.cut(df['pickup_datetime'].dt.hour, bins=[0, 4, 12, 18, 24], labels=[0, 1, 2, 3], right=False)\n",
    "\n",
    "# Create the naive datetime column (if not already created)\n",
    "df['pickup_datetime_naive'] = df['pickup_datetime'].dt.tz_convert(None)\n",
    "\n",
    "# Normalize to remove the time component\n",
    "df['pickup_datetime_naive'] = df['pickup_datetime_naive'].dt.normalize()\n",
    "\n",
    "\n",
    "# Display the first few rows after transformation\n",
    "print(\"First few rows after datetime transformation:\")\n",
    "print(df.head())\n",
    "\n",
    "df.to_csv('updated.csv', index=False)"
   ]
  },
  {
   "cell_type": "markdown",
   "metadata": {},
   "source": [
    "## Data Extending\n",
    "### Adding weather data to our dataset from the [link](https://www.ncei.noaa.gov/cdo-web/):"
   ]
  },
  {
   "cell_type": "code",
   "execution_count": 58,
   "metadata": {
    "ExecuteTime": {
     "end_time": "2024-08-24T11:23:45.930951700Z",
     "start_time": "2024-08-24T11:23:45.899772500Z"
    }
   },
   "outputs": [
    {
     "data": {
      "text/plain": "STATION       0\nDATE          0\nAWND         35\nEVAP       2922\nRHAV         80\nRHMN         78\nRHMX         78\nSNOW          0\nSNWD          0\nTAVG       2922\nTMAX          0\nTMIN          0\nTOBS       2922\nTSUN       2922\nWDMV       2922\nWESD       2922\nWSFM       2922\nWT01       2040\nWT03       2922\nWT07       2871\nWT14       2921\nWT16       2344\nWT17       2914\ndtype: int64"
     },
     "execution_count": 58,
     "metadata": {},
     "output_type": "execute_result"
    }
   ],
   "source": [
    "pre_processed_weather_df = pd.read_csv('nyc_weather.csv')\n",
    "# Checking for missing values\n",
    "missing_values = pre_processed_weather_df.isnull().sum()\n",
    "\n",
    "missing_values"
   ]
  },
  {
   "cell_type": "code",
   "execution_count": 59,
   "metadata": {
    "ExecuteTime": {
     "end_time": "2024-08-24T11:23:45.946472300Z",
     "start_time": "2024-08-24T11:23:45.930951700Z"
    }
   },
   "outputs": [
    {
     "data": {
      "text/plain": "            SNOW  SNWD  TMAX  TMIN\nDATE                              \n2009-01-01     0     0  -3.3  -9.4\n2009-01-02     0     0   1.1  -5.0\n2009-01-03     0     0   3.3  -1.7\n2009-01-04     0     0   5.6  -3.9\n2009-01-05     0     0   6.1   3.3",
      "text/html": "<div>\n<style scoped>\n    .dataframe tbody tr th:only-of-type {\n        vertical-align: middle;\n    }\n\n    .dataframe tbody tr th {\n        vertical-align: top;\n    }\n\n    .dataframe thead th {\n        text-align: right;\n    }\n</style>\n<table border=\"1\" class=\"dataframe\">\n  <thead>\n    <tr style=\"text-align: right;\">\n      <th></th>\n      <th>SNOW</th>\n      <th>SNWD</th>\n      <th>TMAX</th>\n      <th>TMIN</th>\n    </tr>\n    <tr>\n      <th>DATE</th>\n      <th></th>\n      <th></th>\n      <th></th>\n      <th></th>\n    </tr>\n  </thead>\n  <tbody>\n    <tr>\n      <th>2009-01-01</th>\n      <td>0</td>\n      <td>0</td>\n      <td>-3.3</td>\n      <td>-9.4</td>\n    </tr>\n    <tr>\n      <th>2009-01-02</th>\n      <td>0</td>\n      <td>0</td>\n      <td>1.1</td>\n      <td>-5.0</td>\n    </tr>\n    <tr>\n      <th>2009-01-03</th>\n      <td>0</td>\n      <td>0</td>\n      <td>3.3</td>\n      <td>-1.7</td>\n    </tr>\n    <tr>\n      <th>2009-01-04</th>\n      <td>0</td>\n      <td>0</td>\n      <td>5.6</td>\n      <td>-3.9</td>\n    </tr>\n    <tr>\n      <th>2009-01-05</th>\n      <td>0</td>\n      <td>0</td>\n      <td>6.1</td>\n      <td>3.3</td>\n    </tr>\n  </tbody>\n</table>\n</div>"
     },
     "execution_count": 59,
     "metadata": {},
     "output_type": "execute_result"
    }
   ],
   "source": [
    "weather_df = pre_processed_weather_df[['DATE', 'SNOW', 'SNWD', 'TMAX', 'TMIN']].copy() # Selecting only the required columns\n",
    "\n",
    "weather_df['DATE'] = pd.to_datetime(weather_df['DATE'])\n",
    "\n",
    "weather_df.set_index('DATE', inplace=True)\n",
    "\n",
    "weather_df.head()"
   ]
  },
  {
   "cell_type": "code",
   "execution_count": 60,
   "metadata": {
    "ExecuteTime": {
     "end_time": "2024-08-24T11:23:47.525726800Z",
     "start_time": "2024-08-24T11:23:45.946472300Z"
    }
   },
   "outputs": [],
   "source": [
    "df['SNOW'] = df['pickup_datetime_naive'].map(weather_df['SNOW'])\n",
    "df['SNWD'] = df['pickup_datetime_naive'].map(weather_df['SNWD'])\n",
    "df['TMAX'] = df['pickup_datetime_naive'].map(weather_df['TMAX'])\n",
    "df['TMIN'] = df['pickup_datetime_naive'].map(weather_df['TMIN'])\n",
    "\n",
    "df.head()\n",
    "df.to_csv('updated.csv', index=False)"
   ]
  },
  {
   "cell_type": "markdown",
   "metadata": {},
   "source": [
    "### Holiday Data [Link](https://www.kaggle.com/datasets/donnetew/us-holiday-dates-2004-2021):\n"
   ]
  },
  {
   "cell_type": "code",
   "execution_count": 61,
   "metadata": {
    "ExecuteTime": {
     "end_time": "2024-08-24T11:23:47.525726800Z",
     "start_time": "2024-08-24T11:23:47.525726800Z"
    }
   },
   "outputs": [
    {
     "data": {
      "text/plain": "Date       datetime64[ns]\nHoliday            object\nWeekDay            object\nMonth               int64\nDay                 int64\nYear                int64\ndtype: object"
     },
     "execution_count": 61,
     "metadata": {},
     "output_type": "execute_result"
    }
   ],
   "source": [
    "# Read the CSV file into a DataFrame\n",
    "us_holidays_df = pd.read_csv('us_holidays.csv')\n",
    "\n",
    "us_holidays_df['Date'] = pd.to_datetime(us_holidays_df['Date'])\n",
    "\n",
    "# Display the DataFrame\n",
    "us_holidays_df.dtypes"
   ]
  },
  {
   "cell_type": "code",
   "execution_count": 62,
   "metadata": {
    "ExecuteTime": {
     "end_time": "2024-08-24T11:23:47.541458200Z",
     "start_time": "2024-08-24T11:23:47.525726800Z"
    }
   },
   "outputs": [
    {
     "data": {
      "text/plain": "0   2004-07-04\n1   2005-07-04\n2   2006-07-04\n3   2007-07-04\n4   2008-07-04\nName: Date, dtype: datetime64[ns]"
     },
     "execution_count": 62,
     "metadata": {},
     "output_type": "execute_result"
    }
   ],
   "source": [
    "holidays_dates_df = us_holidays_df['Date'].copy()\n",
    "holidays_dates_df.head()"
   ]
  },
  {
   "cell_type": "code",
   "execution_count": 63,
   "metadata": {
    "ExecuteTime": {
     "end_time": "2024-08-24T11:23:49.091905900Z",
     "start_time": "2024-08-24T11:23:47.541458200Z"
    }
   },
   "outputs": [],
   "source": [
    "df = df.merge(holidays_dates_df, left_on='pickup_datetime_naive', right_on='Date', how='left')\n",
    "df['is_holiday'] = df['Date'].notnull().astype(int)\n",
    "df.drop(columns='Date', inplace=True)\n",
    "df.head()\n",
    "df.sort_values(by='pickup_datetime', inplace=True)\n",
    "df.to_csv('uber_updated.csv', index=False)"
   ]
  },
  {
   "cell_type": "code",
   "execution_count": 64,
   "metadata": {
    "ExecuteTime": {
     "end_time": "2024-08-24T11:23:49.111955Z",
     "start_time": "2024-08-24T11:23:49.091905900Z"
    }
   },
   "outputs": [
    {
     "data": {
      "text/plain": "        Unnamed: 0                          key  fare_amount  \\\n100584    55072468  2009-01-01 01:15:22.0000006          8.5   \n43861     30813112  2009-01-01 01:59:17.0000001         13.0   \n7616       8688426  2009-01-01 02:05:03.0000003         10.6   \n118451    13190369  2009-01-01 02:09:13.0000003         12.2   \n89530     45716268  2009-01-01 02:13:41.0000001         11.0   \n\n                 pickup_datetime  pickup_longitude  pickup_latitude  \\\n100584 2009-01-01 01:15:22+00:00        -73.981918        40.779456   \n43861  2009-01-01 01:59:17+00:00        -73.983759        40.721389   \n7616   2009-01-01 02:05:03+00:00        -73.956635        40.771254   \n118451 2009-01-01 02:09:13+00:00        -73.984605        40.728020   \n89530  2009-01-01 02:13:41+00:00        -73.980127        40.737425   \n\n        dropoff_longitude  dropoff_latitude  passenger_count  pickup_year  \\\n100584         -73.957685         40.771043                2         2009   \n43861          -73.994833         40.687179                2         2009   \n7616           -73.991528         40.749778                2         2009   \n118451         -73.955746         40.776830                1         2009   \n89530          -74.009544         40.726025                4         2009   \n\n        ...  pickup_hour  pickup_minute  pickup_day_of_week  \\\n100584  ...            1             15                   3   \n43861   ...            1             59                   3   \n7616    ...            2              5                   3   \n118451  ...            2              9                   3   \n89530   ...            2             13                   3   \n\n        pickup_time_of_day  pickup_datetime_naive SNOW SNWD  TMAX  TMIN  \\\n100584                   0             2009-01-01    0    0  -3.3  -9.4   \n43861                    0             2009-01-01    0    0  -3.3  -9.4   \n7616                     0             2009-01-01    0    0  -3.3  -9.4   \n118451                   0             2009-01-01    0    0  -3.3  -9.4   \n89530                    0             2009-01-01    0    0  -3.3  -9.4   \n\n        is_holiday  \n100584           1  \n43861            1  \n7616             1  \n118451           1  \n89530            1  \n\n[5 rows x 22 columns]",
      "text/html": "<div>\n<style scoped>\n    .dataframe tbody tr th:only-of-type {\n        vertical-align: middle;\n    }\n\n    .dataframe tbody tr th {\n        vertical-align: top;\n    }\n\n    .dataframe thead th {\n        text-align: right;\n    }\n</style>\n<table border=\"1\" class=\"dataframe\">\n  <thead>\n    <tr style=\"text-align: right;\">\n      <th></th>\n      <th>Unnamed: 0</th>\n      <th>key</th>\n      <th>fare_amount</th>\n      <th>pickup_datetime</th>\n      <th>pickup_longitude</th>\n      <th>pickup_latitude</th>\n      <th>dropoff_longitude</th>\n      <th>dropoff_latitude</th>\n      <th>passenger_count</th>\n      <th>pickup_year</th>\n      <th>...</th>\n      <th>pickup_hour</th>\n      <th>pickup_minute</th>\n      <th>pickup_day_of_week</th>\n      <th>pickup_time_of_day</th>\n      <th>pickup_datetime_naive</th>\n      <th>SNOW</th>\n      <th>SNWD</th>\n      <th>TMAX</th>\n      <th>TMIN</th>\n      <th>is_holiday</th>\n    </tr>\n  </thead>\n  <tbody>\n    <tr>\n      <th>100584</th>\n      <td>55072468</td>\n      <td>2009-01-01 01:15:22.0000006</td>\n      <td>8.5</td>\n      <td>2009-01-01 01:15:22+00:00</td>\n      <td>-73.981918</td>\n      <td>40.779456</td>\n      <td>-73.957685</td>\n      <td>40.771043</td>\n      <td>2</td>\n      <td>2009</td>\n      <td>...</td>\n      <td>1</td>\n      <td>15</td>\n      <td>3</td>\n      <td>0</td>\n      <td>2009-01-01</td>\n      <td>0</td>\n      <td>0</td>\n      <td>-3.3</td>\n      <td>-9.4</td>\n      <td>1</td>\n    </tr>\n    <tr>\n      <th>43861</th>\n      <td>30813112</td>\n      <td>2009-01-01 01:59:17.0000001</td>\n      <td>13.0</td>\n      <td>2009-01-01 01:59:17+00:00</td>\n      <td>-73.983759</td>\n      <td>40.721389</td>\n      <td>-73.994833</td>\n      <td>40.687179</td>\n      <td>2</td>\n      <td>2009</td>\n      <td>...</td>\n      <td>1</td>\n      <td>59</td>\n      <td>3</td>\n      <td>0</td>\n      <td>2009-01-01</td>\n      <td>0</td>\n      <td>0</td>\n      <td>-3.3</td>\n      <td>-9.4</td>\n      <td>1</td>\n    </tr>\n    <tr>\n      <th>7616</th>\n      <td>8688426</td>\n      <td>2009-01-01 02:05:03.0000003</td>\n      <td>10.6</td>\n      <td>2009-01-01 02:05:03+00:00</td>\n      <td>-73.956635</td>\n      <td>40.771254</td>\n      <td>-73.991528</td>\n      <td>40.749778</td>\n      <td>2</td>\n      <td>2009</td>\n      <td>...</td>\n      <td>2</td>\n      <td>5</td>\n      <td>3</td>\n      <td>0</td>\n      <td>2009-01-01</td>\n      <td>0</td>\n      <td>0</td>\n      <td>-3.3</td>\n      <td>-9.4</td>\n      <td>1</td>\n    </tr>\n    <tr>\n      <th>118451</th>\n      <td>13190369</td>\n      <td>2009-01-01 02:09:13.0000003</td>\n      <td>12.2</td>\n      <td>2009-01-01 02:09:13+00:00</td>\n      <td>-73.984605</td>\n      <td>40.728020</td>\n      <td>-73.955746</td>\n      <td>40.776830</td>\n      <td>1</td>\n      <td>2009</td>\n      <td>...</td>\n      <td>2</td>\n      <td>9</td>\n      <td>3</td>\n      <td>0</td>\n      <td>2009-01-01</td>\n      <td>0</td>\n      <td>0</td>\n      <td>-3.3</td>\n      <td>-9.4</td>\n      <td>1</td>\n    </tr>\n    <tr>\n      <th>89530</th>\n      <td>45716268</td>\n      <td>2009-01-01 02:13:41.0000001</td>\n      <td>11.0</td>\n      <td>2009-01-01 02:13:41+00:00</td>\n      <td>-73.980127</td>\n      <td>40.737425</td>\n      <td>-74.009544</td>\n      <td>40.726025</td>\n      <td>4</td>\n      <td>2009</td>\n      <td>...</td>\n      <td>2</td>\n      <td>13</td>\n      <td>3</td>\n      <td>0</td>\n      <td>2009-01-01</td>\n      <td>0</td>\n      <td>0</td>\n      <td>-3.3</td>\n      <td>-9.4</td>\n      <td>1</td>\n    </tr>\n  </tbody>\n</table>\n<p>5 rows × 22 columns</p>\n</div>"
     },
     "execution_count": 64,
     "metadata": {},
     "output_type": "execute_result"
    }
   ],
   "source": [
    "df.head()"
   ]
  },
  {
   "cell_type": "markdown",
   "source": [
    "# adding distance (km) of drive"
   ],
   "metadata": {
    "collapsed": false
   }
  },
  {
   "cell_type": "code",
   "execution_count": 65,
   "outputs": [],
   "source": [
    "from haversine import haversine\n",
    "\n",
    "def calculate_distance(row):\n",
    "    pickup = (row['pickup_latitude'], row['pickup_longitude'])\n",
    "    dropoff = (row['dropoff_latitude'], row['dropoff_longitude'])\n",
    "    return haversine(pickup, dropoff)\n",
    "\n",
    "df['distance'] = df.apply(calculate_distance, axis=1)\n",
    "df.sort_values(by='pickup_datetime', inplace=True)\n",
    "df.to_csv('uber_updated.csv', index=False)"
   ],
   "metadata": {
    "collapsed": false,
    "ExecuteTime": {
     "end_time": "2024-08-24T11:23:52.633183Z",
     "start_time": "2024-08-24T11:23:49.111955Z"
    }
   }
  },
  {
   "cell_type": "code",
   "execution_count": 66,
   "outputs": [
    {
     "data": {
      "text/plain": "        Unnamed: 0                          key  fare_amount  \\\n100584    55072468  2009-01-01 01:15:22.0000006          8.5   \n43861     30813112  2009-01-01 01:59:17.0000001         13.0   \n7616       8688426  2009-01-01 02:05:03.0000003         10.6   \n118451    13190369  2009-01-01 02:09:13.0000003         12.2   \n89530     45716268  2009-01-01 02:13:41.0000001         11.0   \n\n                 pickup_datetime  pickup_longitude  pickup_latitude  \\\n100584 2009-01-01 01:15:22+00:00        -73.981918        40.779456   \n43861  2009-01-01 01:59:17+00:00        -73.983759        40.721389   \n7616   2009-01-01 02:05:03+00:00        -73.956635        40.771254   \n118451 2009-01-01 02:09:13+00:00        -73.984605        40.728020   \n89530  2009-01-01 02:13:41+00:00        -73.980127        40.737425   \n\n        dropoff_longitude  dropoff_latitude  passenger_count  pickup_year  \\\n100584         -73.957685         40.771043                2         2009   \n43861          -73.994833         40.687179                2         2009   \n7616           -73.991528         40.749778                2         2009   \n118451         -73.955746         40.776830                1         2009   \n89530          -74.009544         40.726025                4         2009   \n\n        ...  pickup_minute  pickup_day_of_week  pickup_time_of_day  \\\n100584  ...             15                   3                   0   \n43861   ...             59                   3                   0   \n7616    ...              5                   3                   0   \n118451  ...              9                   3                   0   \n89530   ...             13                   3                   0   \n\n        pickup_datetime_naive  SNOW SNWD TMAX  TMIN  is_holiday  distance  \n100584             2009-01-01     0    0 -3.3  -9.4           1  2.244768  \n43861              2009-01-01     0    0 -3.3  -9.4           1  3.916847  \n7616               2009-01-01     0    0 -3.3  -9.4           1  3.786742  \n118451             2009-01-01     0    0 -3.3  -9.4           1  5.946965  \n89530              2009-01-01     0    0 -3.3  -9.4           1  2.784026  \n\n[5 rows x 23 columns]",
      "text/html": "<div>\n<style scoped>\n    .dataframe tbody tr th:only-of-type {\n        vertical-align: middle;\n    }\n\n    .dataframe tbody tr th {\n        vertical-align: top;\n    }\n\n    .dataframe thead th {\n        text-align: right;\n    }\n</style>\n<table border=\"1\" class=\"dataframe\">\n  <thead>\n    <tr style=\"text-align: right;\">\n      <th></th>\n      <th>Unnamed: 0</th>\n      <th>key</th>\n      <th>fare_amount</th>\n      <th>pickup_datetime</th>\n      <th>pickup_longitude</th>\n      <th>pickup_latitude</th>\n      <th>dropoff_longitude</th>\n      <th>dropoff_latitude</th>\n      <th>passenger_count</th>\n      <th>pickup_year</th>\n      <th>...</th>\n      <th>pickup_minute</th>\n      <th>pickup_day_of_week</th>\n      <th>pickup_time_of_day</th>\n      <th>pickup_datetime_naive</th>\n      <th>SNOW</th>\n      <th>SNWD</th>\n      <th>TMAX</th>\n      <th>TMIN</th>\n      <th>is_holiday</th>\n      <th>distance</th>\n    </tr>\n  </thead>\n  <tbody>\n    <tr>\n      <th>100584</th>\n      <td>55072468</td>\n      <td>2009-01-01 01:15:22.0000006</td>\n      <td>8.5</td>\n      <td>2009-01-01 01:15:22+00:00</td>\n      <td>-73.981918</td>\n      <td>40.779456</td>\n      <td>-73.957685</td>\n      <td>40.771043</td>\n      <td>2</td>\n      <td>2009</td>\n      <td>...</td>\n      <td>15</td>\n      <td>3</td>\n      <td>0</td>\n      <td>2009-01-01</td>\n      <td>0</td>\n      <td>0</td>\n      <td>-3.3</td>\n      <td>-9.4</td>\n      <td>1</td>\n      <td>2.244768</td>\n    </tr>\n    <tr>\n      <th>43861</th>\n      <td>30813112</td>\n      <td>2009-01-01 01:59:17.0000001</td>\n      <td>13.0</td>\n      <td>2009-01-01 01:59:17+00:00</td>\n      <td>-73.983759</td>\n      <td>40.721389</td>\n      <td>-73.994833</td>\n      <td>40.687179</td>\n      <td>2</td>\n      <td>2009</td>\n      <td>...</td>\n      <td>59</td>\n      <td>3</td>\n      <td>0</td>\n      <td>2009-01-01</td>\n      <td>0</td>\n      <td>0</td>\n      <td>-3.3</td>\n      <td>-9.4</td>\n      <td>1</td>\n      <td>3.916847</td>\n    </tr>\n    <tr>\n      <th>7616</th>\n      <td>8688426</td>\n      <td>2009-01-01 02:05:03.0000003</td>\n      <td>10.6</td>\n      <td>2009-01-01 02:05:03+00:00</td>\n      <td>-73.956635</td>\n      <td>40.771254</td>\n      <td>-73.991528</td>\n      <td>40.749778</td>\n      <td>2</td>\n      <td>2009</td>\n      <td>...</td>\n      <td>5</td>\n      <td>3</td>\n      <td>0</td>\n      <td>2009-01-01</td>\n      <td>0</td>\n      <td>0</td>\n      <td>-3.3</td>\n      <td>-9.4</td>\n      <td>1</td>\n      <td>3.786742</td>\n    </tr>\n    <tr>\n      <th>118451</th>\n      <td>13190369</td>\n      <td>2009-01-01 02:09:13.0000003</td>\n      <td>12.2</td>\n      <td>2009-01-01 02:09:13+00:00</td>\n      <td>-73.984605</td>\n      <td>40.728020</td>\n      <td>-73.955746</td>\n      <td>40.776830</td>\n      <td>1</td>\n      <td>2009</td>\n      <td>...</td>\n      <td>9</td>\n      <td>3</td>\n      <td>0</td>\n      <td>2009-01-01</td>\n      <td>0</td>\n      <td>0</td>\n      <td>-3.3</td>\n      <td>-9.4</td>\n      <td>1</td>\n      <td>5.946965</td>\n    </tr>\n    <tr>\n      <th>89530</th>\n      <td>45716268</td>\n      <td>2009-01-01 02:13:41.0000001</td>\n      <td>11.0</td>\n      <td>2009-01-01 02:13:41+00:00</td>\n      <td>-73.980127</td>\n      <td>40.737425</td>\n      <td>-74.009544</td>\n      <td>40.726025</td>\n      <td>4</td>\n      <td>2009</td>\n      <td>...</td>\n      <td>13</td>\n      <td>3</td>\n      <td>0</td>\n      <td>2009-01-01</td>\n      <td>0</td>\n      <td>0</td>\n      <td>-3.3</td>\n      <td>-9.4</td>\n      <td>1</td>\n      <td>2.784026</td>\n    </tr>\n  </tbody>\n</table>\n<p>5 rows × 23 columns</p>\n</div>"
     },
     "execution_count": 66,
     "metadata": {},
     "output_type": "execute_result"
    }
   ],
   "source": [
    "df.head()"
   ],
   "metadata": {
    "collapsed": false,
    "ExecuteTime": {
     "end_time": "2024-08-24T11:23:52.648920Z",
     "start_time": "2024-08-24T11:23:52.633183Z"
    }
   }
  },
  {
   "cell_type": "markdown",
   "source": [
    "# dividing by the treatment"
   ],
   "metadata": {
    "collapsed": false
   }
  },
  {
   "cell_type": "code",
   "execution_count": 67,
   "outputs": [
    {
     "name": "stderr",
     "output_type": "stream",
     "text": [
      "C:\\Users\\Inbar\\AppData\\Local\\Temp\\ipykernel_2804\\2370099949.py:1: UserWarning: Boolean Series key will be reindexed to match DataFrame index.\n",
      "  early_df=df[(df[\"pickup_hour\"]==7)|(df[\"pickup_hour\"]==8)][(df[\"pickup_day_of_week\"]!=6)&(df[\"pickup_day_of_week\"]!=5)]\n"
     ]
    },
    {
     "data": {
      "text/plain": "        Unnamed: 0                           key  fare_amount  \\\n182970    30562954   2009-01-02 07:21:00.0000007          9.3   \n35969     28442656   2009-01-02 07:21:39.0000001         10.1   \n28775     26188451  2009-01-02 07:42:00.00000049          6.1   \n154975    50129115  2009-01-02 08:10:00.00000010         16.1   \n46968     50607326  2009-01-05 07:06:00.00000097          4.1   \n...            ...                           ...          ...   \n82645     48730246   2015-06-30 07:46:24.0000001         17.5   \n131689    51123054   2015-06-30 07:52:34.0000002          6.0   \n43331     21446442   2015-06-30 08:16:19.0000003          6.5   \n136198    43329667   2015-06-30 08:40:33.0000003         10.5   \n181619    44513055   2015-06-30 08:49:14.0000001         13.5   \n\n                 pickup_datetime  pickup_longitude  pickup_latitude  \\\n182970 2009-01-02 07:21:00+00:00        -73.983085        40.729027   \n35969  2009-01-02 07:21:39+00:00        -73.961482        40.764459   \n28775  2009-01-02 07:42:00+00:00        -73.981670        40.766260   \n154975 2009-01-02 08:10:00+00:00          0.000000         0.000000   \n46968  2009-01-05 07:06:00+00:00        -74.006237        40.716960   \n...                          ...               ...              ...   \n82645  2015-06-30 07:46:24+00:00        -73.977356        40.787106   \n131689 2015-06-30 07:52:34+00:00        -73.984367        40.764740   \n43331  2015-06-30 08:16:19+00:00        -73.975037        40.755051   \n136198 2015-06-30 08:40:33+00:00        -73.983665        40.725780   \n181619 2015-06-30 08:49:14+00:00        -73.988907        40.710041   \n\n        dropoff_longitude  dropoff_latitude  passenger_count  pickup_year  \\\n182970         -74.006095         40.707702                1         2009   \n35969          -73.991651         40.749690                1         2009   \n28775          -73.996820         40.744107                1         2009   \n154975           0.000000          0.000000                1         2009   \n46968          -74.010613         40.709268                1         2009   \n...                   ...               ...              ...          ...   \n82645          -74.008736         40.724033                1         2015   \n131689         -73.987572         40.753059                2         2015   \n43331          -73.974899         40.763435                1         2015   \n136198         -73.995193         40.740746                4         2015   \n181619         -73.967178         40.752377                1         2015   \n\n        ...  pickup_minute  pickup_day_of_week  pickup_time_of_day  \\\n182970  ...             21                   4                   1   \n35969   ...             21                   4                   1   \n28775   ...             42                   4                   1   \n154975  ...             10                   4                   1   \n46968   ...              6                   0                   1   \n...     ...            ...                 ...                 ...   \n82645   ...             46                   1                   1   \n131689  ...             52                   1                   1   \n43331   ...             16                   1                   1   \n136198  ...             40                   1                   1   \n181619  ...             49                   1                   1   \n\n        pickup_datetime_naive  SNOW SNWD  TMAX  TMIN  is_holiday  distance  \n182970             2009-01-02     0    0   1.1  -5.0           0  3.063226  \n35969              2009-01-02     0    0   1.1  -5.0           0  3.025573  \n28775              2009-01-02     0    0   1.1  -5.0           0  2.774220  \n154975             2009-01-02     0    0   1.1  -5.0           0  0.000000  \n46968              2009-01-05     0    0   6.1   3.3           0  0.931447  \n...                       ...   ...  ...   ...   ...         ...       ...  \n82645              2015-06-30     0    0  27.8  20.0           0  7.494849  \n131689             2015-06-30     0    0  27.8  20.0           0  1.326570  \n43331              2015-06-30     0    0  27.8  20.0           0  0.932410  \n136198             2015-06-30     0    0  27.8  20.0           0  1.926791  \n181619             2015-06-30     0    0  27.8  20.0           0  5.051005  \n\n[14259 rows x 23 columns]",
      "text/html": "<div>\n<style scoped>\n    .dataframe tbody tr th:only-of-type {\n        vertical-align: middle;\n    }\n\n    .dataframe tbody tr th {\n        vertical-align: top;\n    }\n\n    .dataframe thead th {\n        text-align: right;\n    }\n</style>\n<table border=\"1\" class=\"dataframe\">\n  <thead>\n    <tr style=\"text-align: right;\">\n      <th></th>\n      <th>Unnamed: 0</th>\n      <th>key</th>\n      <th>fare_amount</th>\n      <th>pickup_datetime</th>\n      <th>pickup_longitude</th>\n      <th>pickup_latitude</th>\n      <th>dropoff_longitude</th>\n      <th>dropoff_latitude</th>\n      <th>passenger_count</th>\n      <th>pickup_year</th>\n      <th>...</th>\n      <th>pickup_minute</th>\n      <th>pickup_day_of_week</th>\n      <th>pickup_time_of_day</th>\n      <th>pickup_datetime_naive</th>\n      <th>SNOW</th>\n      <th>SNWD</th>\n      <th>TMAX</th>\n      <th>TMIN</th>\n      <th>is_holiday</th>\n      <th>distance</th>\n    </tr>\n  </thead>\n  <tbody>\n    <tr>\n      <th>182970</th>\n      <td>30562954</td>\n      <td>2009-01-02 07:21:00.0000007</td>\n      <td>9.3</td>\n      <td>2009-01-02 07:21:00+00:00</td>\n      <td>-73.983085</td>\n      <td>40.729027</td>\n      <td>-74.006095</td>\n      <td>40.707702</td>\n      <td>1</td>\n      <td>2009</td>\n      <td>...</td>\n      <td>21</td>\n      <td>4</td>\n      <td>1</td>\n      <td>2009-01-02</td>\n      <td>0</td>\n      <td>0</td>\n      <td>1.1</td>\n      <td>-5.0</td>\n      <td>0</td>\n      <td>3.063226</td>\n    </tr>\n    <tr>\n      <th>35969</th>\n      <td>28442656</td>\n      <td>2009-01-02 07:21:39.0000001</td>\n      <td>10.1</td>\n      <td>2009-01-02 07:21:39+00:00</td>\n      <td>-73.961482</td>\n      <td>40.764459</td>\n      <td>-73.991651</td>\n      <td>40.749690</td>\n      <td>1</td>\n      <td>2009</td>\n      <td>...</td>\n      <td>21</td>\n      <td>4</td>\n      <td>1</td>\n      <td>2009-01-02</td>\n      <td>0</td>\n      <td>0</td>\n      <td>1.1</td>\n      <td>-5.0</td>\n      <td>0</td>\n      <td>3.025573</td>\n    </tr>\n    <tr>\n      <th>28775</th>\n      <td>26188451</td>\n      <td>2009-01-02 07:42:00.00000049</td>\n      <td>6.1</td>\n      <td>2009-01-02 07:42:00+00:00</td>\n      <td>-73.981670</td>\n      <td>40.766260</td>\n      <td>-73.996820</td>\n      <td>40.744107</td>\n      <td>1</td>\n      <td>2009</td>\n      <td>...</td>\n      <td>42</td>\n      <td>4</td>\n      <td>1</td>\n      <td>2009-01-02</td>\n      <td>0</td>\n      <td>0</td>\n      <td>1.1</td>\n      <td>-5.0</td>\n      <td>0</td>\n      <td>2.774220</td>\n    </tr>\n    <tr>\n      <th>154975</th>\n      <td>50129115</td>\n      <td>2009-01-02 08:10:00.00000010</td>\n      <td>16.1</td>\n      <td>2009-01-02 08:10:00+00:00</td>\n      <td>0.000000</td>\n      <td>0.000000</td>\n      <td>0.000000</td>\n      <td>0.000000</td>\n      <td>1</td>\n      <td>2009</td>\n      <td>...</td>\n      <td>10</td>\n      <td>4</td>\n      <td>1</td>\n      <td>2009-01-02</td>\n      <td>0</td>\n      <td>0</td>\n      <td>1.1</td>\n      <td>-5.0</td>\n      <td>0</td>\n      <td>0.000000</td>\n    </tr>\n    <tr>\n      <th>46968</th>\n      <td>50607326</td>\n      <td>2009-01-05 07:06:00.00000097</td>\n      <td>4.1</td>\n      <td>2009-01-05 07:06:00+00:00</td>\n      <td>-74.006237</td>\n      <td>40.716960</td>\n      <td>-74.010613</td>\n      <td>40.709268</td>\n      <td>1</td>\n      <td>2009</td>\n      <td>...</td>\n      <td>6</td>\n      <td>0</td>\n      <td>1</td>\n      <td>2009-01-05</td>\n      <td>0</td>\n      <td>0</td>\n      <td>6.1</td>\n      <td>3.3</td>\n      <td>0</td>\n      <td>0.931447</td>\n    </tr>\n    <tr>\n      <th>...</th>\n      <td>...</td>\n      <td>...</td>\n      <td>...</td>\n      <td>...</td>\n      <td>...</td>\n      <td>...</td>\n      <td>...</td>\n      <td>...</td>\n      <td>...</td>\n      <td>...</td>\n      <td>...</td>\n      <td>...</td>\n      <td>...</td>\n      <td>...</td>\n      <td>...</td>\n      <td>...</td>\n      <td>...</td>\n      <td>...</td>\n      <td>...</td>\n      <td>...</td>\n      <td>...</td>\n    </tr>\n    <tr>\n      <th>82645</th>\n      <td>48730246</td>\n      <td>2015-06-30 07:46:24.0000001</td>\n      <td>17.5</td>\n      <td>2015-06-30 07:46:24+00:00</td>\n      <td>-73.977356</td>\n      <td>40.787106</td>\n      <td>-74.008736</td>\n      <td>40.724033</td>\n      <td>1</td>\n      <td>2015</td>\n      <td>...</td>\n      <td>46</td>\n      <td>1</td>\n      <td>1</td>\n      <td>2015-06-30</td>\n      <td>0</td>\n      <td>0</td>\n      <td>27.8</td>\n      <td>20.0</td>\n      <td>0</td>\n      <td>7.494849</td>\n    </tr>\n    <tr>\n      <th>131689</th>\n      <td>51123054</td>\n      <td>2015-06-30 07:52:34.0000002</td>\n      <td>6.0</td>\n      <td>2015-06-30 07:52:34+00:00</td>\n      <td>-73.984367</td>\n      <td>40.764740</td>\n      <td>-73.987572</td>\n      <td>40.753059</td>\n      <td>2</td>\n      <td>2015</td>\n      <td>...</td>\n      <td>52</td>\n      <td>1</td>\n      <td>1</td>\n      <td>2015-06-30</td>\n      <td>0</td>\n      <td>0</td>\n      <td>27.8</td>\n      <td>20.0</td>\n      <td>0</td>\n      <td>1.326570</td>\n    </tr>\n    <tr>\n      <th>43331</th>\n      <td>21446442</td>\n      <td>2015-06-30 08:16:19.0000003</td>\n      <td>6.5</td>\n      <td>2015-06-30 08:16:19+00:00</td>\n      <td>-73.975037</td>\n      <td>40.755051</td>\n      <td>-73.974899</td>\n      <td>40.763435</td>\n      <td>1</td>\n      <td>2015</td>\n      <td>...</td>\n      <td>16</td>\n      <td>1</td>\n      <td>1</td>\n      <td>2015-06-30</td>\n      <td>0</td>\n      <td>0</td>\n      <td>27.8</td>\n      <td>20.0</td>\n      <td>0</td>\n      <td>0.932410</td>\n    </tr>\n    <tr>\n      <th>136198</th>\n      <td>43329667</td>\n      <td>2015-06-30 08:40:33.0000003</td>\n      <td>10.5</td>\n      <td>2015-06-30 08:40:33+00:00</td>\n      <td>-73.983665</td>\n      <td>40.725780</td>\n      <td>-73.995193</td>\n      <td>40.740746</td>\n      <td>4</td>\n      <td>2015</td>\n      <td>...</td>\n      <td>40</td>\n      <td>1</td>\n      <td>1</td>\n      <td>2015-06-30</td>\n      <td>0</td>\n      <td>0</td>\n      <td>27.8</td>\n      <td>20.0</td>\n      <td>0</td>\n      <td>1.926791</td>\n    </tr>\n    <tr>\n      <th>181619</th>\n      <td>44513055</td>\n      <td>2015-06-30 08:49:14.0000001</td>\n      <td>13.5</td>\n      <td>2015-06-30 08:49:14+00:00</td>\n      <td>-73.988907</td>\n      <td>40.710041</td>\n      <td>-73.967178</td>\n      <td>40.752377</td>\n      <td>1</td>\n      <td>2015</td>\n      <td>...</td>\n      <td>49</td>\n      <td>1</td>\n      <td>1</td>\n      <td>2015-06-30</td>\n      <td>0</td>\n      <td>0</td>\n      <td>27.8</td>\n      <td>20.0</td>\n      <td>0</td>\n      <td>5.051005</td>\n    </tr>\n  </tbody>\n</table>\n<p>14259 rows × 23 columns</p>\n</div>"
     },
     "execution_count": 67,
     "metadata": {},
     "output_type": "execute_result"
    }
   ],
   "source": [
    "early_df=df[(df[\"pickup_hour\"]==7)|(df[\"pickup_hour\"]==8)][(df[\"pickup_day_of_week\"]!=6)&(df[\"pickup_day_of_week\"]!=5)]\n",
    "early_df"
   ],
   "metadata": {
    "collapsed": false,
    "ExecuteTime": {
     "end_time": "2024-08-24T11:23:52.696820400Z",
     "start_time": "2024-08-24T11:23:52.648920Z"
    }
   }
  },
  {
   "cell_type": "code",
   "execution_count": 68,
   "outputs": [
    {
     "name": "stderr",
     "output_type": "stream",
     "text": [
      "C:\\Users\\Inbar\\AppData\\Local\\Temp\\ipykernel_2804\\4133159960.py:1: UserWarning: Boolean Series key will be reindexed to match DataFrame index.\n",
      "  late_df=df[(df[\"pickup_hour\"]==9)|(df[\"pickup_hour\"]==10)][(df[\"pickup_day_of_week\"]!=6)&(df[\"pickup_day_of_week\"]!=5)]\n"
     ]
    },
    {
     "data": {
      "text/plain": "        Unnamed: 0                            key  fare_amount  \\\n119927    50042881    2009-01-01 10:11:29.0000003        27.45   \n89651     45824144   2009-01-01 10:35:00.00000076        10.10   \n135456    30127562    2009-01-02 09:11:19.0000003        26.10   \n32419     35105832    2009-01-02 09:15:00.0000005         4.90   \n43618     37579593  2009-01-02 10:52:00.000000113        14.10   \n...            ...                            ...          ...   \n74808     47500388    2015-06-29 10:54:24.0000001        42.04   \n22690     19806831    2015-06-30 09:20:08.0000005         4.00   \n42042     15896882    2015-06-30 09:55:02.0000003        29.04   \n6887      50164520    2015-06-30 09:55:45.0000003        20.00   \n125719     4515911    2015-06-30 10:55:58.0000004         8.00   \n\n                 pickup_datetime  pickup_longitude  pickup_latitude  \\\n119927 2009-01-01 10:11:29+00:00        -73.982014        40.777893   \n89651  2009-01-01 10:35:00+00:00        -73.972288        40.761978   \n135456 2009-01-02 09:11:19+00:00        -73.978024        40.765521   \n32419  2009-01-02 09:15:00+00:00        -73.972077        40.794502   \n43618  2009-01-02 10:52:00+00:00        -73.992347        40.759503   \n...                          ...               ...              ...   \n74808  2015-06-29 10:54:24+00:00        -73.898399        40.753639   \n22690  2015-06-30 09:20:08+00:00        -73.992592        40.742905   \n42042  2015-06-30 09:55:02+00:00        -73.863350        40.769672   \n6887   2015-06-30 09:55:45+00:00        -73.993446        40.729092   \n125719 2015-06-30 10:55:58+00:00        -73.977135        40.764816   \n\n        dropoff_longitude  dropoff_latitude  passenger_count  pickup_year  \\\n119927         -73.885535         40.773202                2         2009   \n89651          -73.984402         40.729590                2         2009   \n135456         -73.872502         40.774423                1         2009   \n32419          -73.978340         40.783228                1         2009   \n43618          -73.997868         40.716843                1         2009   \n...                   ...               ...              ...          ...   \n74808          -73.980766         40.764999                1         2015   \n22690          -73.986702         40.739891                1         2015   \n42042          -73.944633         40.808380                1         2015   \n6887           -73.982979         40.766621                1         2015   \n125719         -73.977539         40.753498                1         2015   \n\n        ...  pickup_minute  pickup_day_of_week  pickup_time_of_day  \\\n119927  ...             11                   3                   1   \n89651   ...             35                   3                   1   \n135456  ...             11                   4                   1   \n32419   ...             15                   4                   1   \n43618   ...             52                   4                   1   \n...     ...            ...                 ...                 ...   \n74808   ...             54                   0                   1   \n22690   ...             20                   1                   1   \n42042   ...             55                   1                   1   \n6887    ...             55                   1                   1   \n125719  ...             55                   1                   1   \n\n        pickup_datetime_naive  SNOW SNWD  TMAX  TMIN  is_holiday  distance  \n119927             2009-01-01     0    0  -3.3  -9.4           1  8.140754  \n89651              2009-01-01     0    0  -3.3  -9.4           1  3.743186  \n135456             2009-01-02     0    0   1.1  -5.0           0  8.941200  \n32419              2009-01-02     0    0   1.1  -5.0           0  1.359986  \n43618              2009-01-02     0    0   1.1  -5.0           0  4.766334  \n...                       ...   ...  ...   ...   ...         ...       ...  \n74808              2015-06-29     0    0  24.4  17.2           0  7.051479  \n22690              2015-06-30     0    0  27.8  20.0           0  0.598765  \n42042              2015-06-30     0    0  27.8  20.0           0  8.084147  \n6887               2015-06-30     0    0  27.8  20.0           0  4.265185  \n125719             2015-06-30     0    0  27.8  20.0           0  1.258990  \n\n[14194 rows x 23 columns]",
      "text/html": "<div>\n<style scoped>\n    .dataframe tbody tr th:only-of-type {\n        vertical-align: middle;\n    }\n\n    .dataframe tbody tr th {\n        vertical-align: top;\n    }\n\n    .dataframe thead th {\n        text-align: right;\n    }\n</style>\n<table border=\"1\" class=\"dataframe\">\n  <thead>\n    <tr style=\"text-align: right;\">\n      <th></th>\n      <th>Unnamed: 0</th>\n      <th>key</th>\n      <th>fare_amount</th>\n      <th>pickup_datetime</th>\n      <th>pickup_longitude</th>\n      <th>pickup_latitude</th>\n      <th>dropoff_longitude</th>\n      <th>dropoff_latitude</th>\n      <th>passenger_count</th>\n      <th>pickup_year</th>\n      <th>...</th>\n      <th>pickup_minute</th>\n      <th>pickup_day_of_week</th>\n      <th>pickup_time_of_day</th>\n      <th>pickup_datetime_naive</th>\n      <th>SNOW</th>\n      <th>SNWD</th>\n      <th>TMAX</th>\n      <th>TMIN</th>\n      <th>is_holiday</th>\n      <th>distance</th>\n    </tr>\n  </thead>\n  <tbody>\n    <tr>\n      <th>119927</th>\n      <td>50042881</td>\n      <td>2009-01-01 10:11:29.0000003</td>\n      <td>27.45</td>\n      <td>2009-01-01 10:11:29+00:00</td>\n      <td>-73.982014</td>\n      <td>40.777893</td>\n      <td>-73.885535</td>\n      <td>40.773202</td>\n      <td>2</td>\n      <td>2009</td>\n      <td>...</td>\n      <td>11</td>\n      <td>3</td>\n      <td>1</td>\n      <td>2009-01-01</td>\n      <td>0</td>\n      <td>0</td>\n      <td>-3.3</td>\n      <td>-9.4</td>\n      <td>1</td>\n      <td>8.140754</td>\n    </tr>\n    <tr>\n      <th>89651</th>\n      <td>45824144</td>\n      <td>2009-01-01 10:35:00.00000076</td>\n      <td>10.10</td>\n      <td>2009-01-01 10:35:00+00:00</td>\n      <td>-73.972288</td>\n      <td>40.761978</td>\n      <td>-73.984402</td>\n      <td>40.729590</td>\n      <td>2</td>\n      <td>2009</td>\n      <td>...</td>\n      <td>35</td>\n      <td>3</td>\n      <td>1</td>\n      <td>2009-01-01</td>\n      <td>0</td>\n      <td>0</td>\n      <td>-3.3</td>\n      <td>-9.4</td>\n      <td>1</td>\n      <td>3.743186</td>\n    </tr>\n    <tr>\n      <th>135456</th>\n      <td>30127562</td>\n      <td>2009-01-02 09:11:19.0000003</td>\n      <td>26.10</td>\n      <td>2009-01-02 09:11:19+00:00</td>\n      <td>-73.978024</td>\n      <td>40.765521</td>\n      <td>-73.872502</td>\n      <td>40.774423</td>\n      <td>1</td>\n      <td>2009</td>\n      <td>...</td>\n      <td>11</td>\n      <td>4</td>\n      <td>1</td>\n      <td>2009-01-02</td>\n      <td>0</td>\n      <td>0</td>\n      <td>1.1</td>\n      <td>-5.0</td>\n      <td>0</td>\n      <td>8.941200</td>\n    </tr>\n    <tr>\n      <th>32419</th>\n      <td>35105832</td>\n      <td>2009-01-02 09:15:00.0000005</td>\n      <td>4.90</td>\n      <td>2009-01-02 09:15:00+00:00</td>\n      <td>-73.972077</td>\n      <td>40.794502</td>\n      <td>-73.978340</td>\n      <td>40.783228</td>\n      <td>1</td>\n      <td>2009</td>\n      <td>...</td>\n      <td>15</td>\n      <td>4</td>\n      <td>1</td>\n      <td>2009-01-02</td>\n      <td>0</td>\n      <td>0</td>\n      <td>1.1</td>\n      <td>-5.0</td>\n      <td>0</td>\n      <td>1.359986</td>\n    </tr>\n    <tr>\n      <th>43618</th>\n      <td>37579593</td>\n      <td>2009-01-02 10:52:00.000000113</td>\n      <td>14.10</td>\n      <td>2009-01-02 10:52:00+00:00</td>\n      <td>-73.992347</td>\n      <td>40.759503</td>\n      <td>-73.997868</td>\n      <td>40.716843</td>\n      <td>1</td>\n      <td>2009</td>\n      <td>...</td>\n      <td>52</td>\n      <td>4</td>\n      <td>1</td>\n      <td>2009-01-02</td>\n      <td>0</td>\n      <td>0</td>\n      <td>1.1</td>\n      <td>-5.0</td>\n      <td>0</td>\n      <td>4.766334</td>\n    </tr>\n    <tr>\n      <th>...</th>\n      <td>...</td>\n      <td>...</td>\n      <td>...</td>\n      <td>...</td>\n      <td>...</td>\n      <td>...</td>\n      <td>...</td>\n      <td>...</td>\n      <td>...</td>\n      <td>...</td>\n      <td>...</td>\n      <td>...</td>\n      <td>...</td>\n      <td>...</td>\n      <td>...</td>\n      <td>...</td>\n      <td>...</td>\n      <td>...</td>\n      <td>...</td>\n      <td>...</td>\n      <td>...</td>\n    </tr>\n    <tr>\n      <th>74808</th>\n      <td>47500388</td>\n      <td>2015-06-29 10:54:24.0000001</td>\n      <td>42.04</td>\n      <td>2015-06-29 10:54:24+00:00</td>\n      <td>-73.898399</td>\n      <td>40.753639</td>\n      <td>-73.980766</td>\n      <td>40.764999</td>\n      <td>1</td>\n      <td>2015</td>\n      <td>...</td>\n      <td>54</td>\n      <td>0</td>\n      <td>1</td>\n      <td>2015-06-29</td>\n      <td>0</td>\n      <td>0</td>\n      <td>24.4</td>\n      <td>17.2</td>\n      <td>0</td>\n      <td>7.051479</td>\n    </tr>\n    <tr>\n      <th>22690</th>\n      <td>19806831</td>\n      <td>2015-06-30 09:20:08.0000005</td>\n      <td>4.00</td>\n      <td>2015-06-30 09:20:08+00:00</td>\n      <td>-73.992592</td>\n      <td>40.742905</td>\n      <td>-73.986702</td>\n      <td>40.739891</td>\n      <td>1</td>\n      <td>2015</td>\n      <td>...</td>\n      <td>20</td>\n      <td>1</td>\n      <td>1</td>\n      <td>2015-06-30</td>\n      <td>0</td>\n      <td>0</td>\n      <td>27.8</td>\n      <td>20.0</td>\n      <td>0</td>\n      <td>0.598765</td>\n    </tr>\n    <tr>\n      <th>42042</th>\n      <td>15896882</td>\n      <td>2015-06-30 09:55:02.0000003</td>\n      <td>29.04</td>\n      <td>2015-06-30 09:55:02+00:00</td>\n      <td>-73.863350</td>\n      <td>40.769672</td>\n      <td>-73.944633</td>\n      <td>40.808380</td>\n      <td>1</td>\n      <td>2015</td>\n      <td>...</td>\n      <td>55</td>\n      <td>1</td>\n      <td>1</td>\n      <td>2015-06-30</td>\n      <td>0</td>\n      <td>0</td>\n      <td>27.8</td>\n      <td>20.0</td>\n      <td>0</td>\n      <td>8.084147</td>\n    </tr>\n    <tr>\n      <th>6887</th>\n      <td>50164520</td>\n      <td>2015-06-30 09:55:45.0000003</td>\n      <td>20.00</td>\n      <td>2015-06-30 09:55:45+00:00</td>\n      <td>-73.993446</td>\n      <td>40.729092</td>\n      <td>-73.982979</td>\n      <td>40.766621</td>\n      <td>1</td>\n      <td>2015</td>\n      <td>...</td>\n      <td>55</td>\n      <td>1</td>\n      <td>1</td>\n      <td>2015-06-30</td>\n      <td>0</td>\n      <td>0</td>\n      <td>27.8</td>\n      <td>20.0</td>\n      <td>0</td>\n      <td>4.265185</td>\n    </tr>\n    <tr>\n      <th>125719</th>\n      <td>4515911</td>\n      <td>2015-06-30 10:55:58.0000004</td>\n      <td>8.00</td>\n      <td>2015-06-30 10:55:58+00:00</td>\n      <td>-73.977135</td>\n      <td>40.764816</td>\n      <td>-73.977539</td>\n      <td>40.753498</td>\n      <td>1</td>\n      <td>2015</td>\n      <td>...</td>\n      <td>55</td>\n      <td>1</td>\n      <td>1</td>\n      <td>2015-06-30</td>\n      <td>0</td>\n      <td>0</td>\n      <td>27.8</td>\n      <td>20.0</td>\n      <td>0</td>\n      <td>1.258990</td>\n    </tr>\n  </tbody>\n</table>\n<p>14194 rows × 23 columns</p>\n</div>"
     },
     "execution_count": 68,
     "metadata": {},
     "output_type": "execute_result"
    }
   ],
   "source": [
    "late_df=df[(df[\"pickup_hour\"]==9)|(df[\"pickup_hour\"]==10)][(df[\"pickup_day_of_week\"]!=6)&(df[\"pickup_day_of_week\"]!=5)]\n",
    "late_df"
   ],
   "metadata": {
    "collapsed": false,
    "ExecuteTime": {
     "end_time": "2024-08-24T11:23:52.743903400Z",
     "start_time": "2024-08-24T11:23:52.696120100Z"
    }
   }
  },
  {
   "cell_type": "code",
   "execution_count": 68,
   "outputs": [],
   "source": [],
   "metadata": {
    "collapsed": false,
    "ExecuteTime": {
     "end_time": "2024-08-24T11:23:52.790735400Z",
     "start_time": "2024-08-24T11:23:52.713049700Z"
    }
   }
  }
 ],
 "metadata": {
  "kernelspec": {
   "display_name": "base",
   "language": "python",
   "name": "python3"
  },
  "language_info": {
   "codemirror_mode": {
    "name": "ipython",
    "version": 3
   },
   "file_extension": ".py",
   "mimetype": "text/x-python",
   "name": "python",
   "nbconvert_exporter": "python",
   "pygments_lexer": "ipython3",
   "version": "3.12.4"
  }
 },
 "nbformat": 4,
 "nbformat_minor": 2
}
